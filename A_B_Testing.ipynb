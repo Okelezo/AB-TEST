{
  "nbformat": 4,
  "nbformat_minor": 0,
  "metadata": {
    "colab": {
      "provenance": []
    },
    "kernelspec": {
      "name": "python3",
      "display_name": "Python 3"
    },
    "language_info": {
      "name": "python"
    }
  },
  "cells": [
    {
      "cell_type": "code",
      "source": [
        "from scipy.stats import chi2_contingency, mannwhitneyu, norm, t, ttest_ind\n",
        "import matplotlib.pyplot as plt\n",
        "import numpy as np\n",
        "import pandas as pd\n",
        "from scipy.special import binom"
      ],
      "metadata": {
        "id": "3gJ7QLvvqhrP"
      },
      "execution_count": null,
      "outputs": []
    },
    {
      "cell_type": "code",
      "source": [
        "data = pd.read_csv(\"data.csv\", header=0, names=[\"Players_A\", \"CostPerDay_A\", \"DayesPerWeek_A\", \"Promo_A\",\"Players_B\", \"CostPerDay_B\", \"DayesPerWeek_B\", \"Promo_B\"])\n",
        "data_A = data[[\"Players_A\", \"CostPerDay_A\", \"DayesPerWeek_A\", \"Promo_A\"]]\n",
        "data_B = data[[\"Players_B\", \"CostPerDay_B\", \"DayesPerWeek_B\", \"Promo_B\"]]\n",
        "data_A.head()"
      ],
      "metadata": {
        "id": "bIy5lkkhsL6D",
        "colab": {
          "base_uri": "https://localhost:8080/",
          "height": 206
        },
        "outputId": "b504cda4-c24f-4937-ddd5-09c0e3e8a1c8"
      },
      "execution_count": null,
      "outputs": [
        {
          "output_type": "execute_result",
          "data": {
            "text/plain": [
              "  Players_A CostPerDay_A  DayesPerWeek_A Promo_A\n",
              "0  player 1      £ 0.88                3       A\n",
              "1  player 2      £ 0.92                5       A\n",
              "2  player 3      £ 0.90                1       A\n",
              "3  player 4      £ 0.57                7       A\n",
              "4  player 5      £ 0.78                0       A"
            ],
            "text/html": [
              "\n",
              "  <div id=\"df-3e47f2d6-04c3-431e-9645-0cdbf8fa0e15\">\n",
              "    <div class=\"colab-df-container\">\n",
              "      <div>\n",
              "<style scoped>\n",
              "    .dataframe tbody tr th:only-of-type {\n",
              "        vertical-align: middle;\n",
              "    }\n",
              "\n",
              "    .dataframe tbody tr th {\n",
              "        vertical-align: top;\n",
              "    }\n",
              "\n",
              "    .dataframe thead th {\n",
              "        text-align: right;\n",
              "    }\n",
              "</style>\n",
              "<table border=\"1\" class=\"dataframe\">\n",
              "  <thead>\n",
              "    <tr style=\"text-align: right;\">\n",
              "      <th></th>\n",
              "      <th>Players_A</th>\n",
              "      <th>CostPerDay_A</th>\n",
              "      <th>DayesPerWeek_A</th>\n",
              "      <th>Promo_A</th>\n",
              "    </tr>\n",
              "  </thead>\n",
              "  <tbody>\n",
              "    <tr>\n",
              "      <th>0</th>\n",
              "      <td>player 1</td>\n",
              "      <td>£ 0.88</td>\n",
              "      <td>3</td>\n",
              "      <td>A</td>\n",
              "    </tr>\n",
              "    <tr>\n",
              "      <th>1</th>\n",
              "      <td>player 2</td>\n",
              "      <td>£ 0.92</td>\n",
              "      <td>5</td>\n",
              "      <td>A</td>\n",
              "    </tr>\n",
              "    <tr>\n",
              "      <th>2</th>\n",
              "      <td>player 3</td>\n",
              "      <td>£ 0.90</td>\n",
              "      <td>1</td>\n",
              "      <td>A</td>\n",
              "    </tr>\n",
              "    <tr>\n",
              "      <th>3</th>\n",
              "      <td>player 4</td>\n",
              "      <td>£ 0.57</td>\n",
              "      <td>7</td>\n",
              "      <td>A</td>\n",
              "    </tr>\n",
              "    <tr>\n",
              "      <th>4</th>\n",
              "      <td>player 5</td>\n",
              "      <td>£ 0.78</td>\n",
              "      <td>0</td>\n",
              "      <td>A</td>\n",
              "    </tr>\n",
              "  </tbody>\n",
              "</table>\n",
              "</div>\n",
              "      <button class=\"colab-df-convert\" onclick=\"convertToInteractive('df-3e47f2d6-04c3-431e-9645-0cdbf8fa0e15')\"\n",
              "              title=\"Convert this dataframe to an interactive table.\"\n",
              "              style=\"display:none;\">\n",
              "        \n",
              "  <svg xmlns=\"http://www.w3.org/2000/svg\" height=\"24px\"viewBox=\"0 0 24 24\"\n",
              "       width=\"24px\">\n",
              "    <path d=\"M0 0h24v24H0V0z\" fill=\"none\"/>\n",
              "    <path d=\"M18.56 5.44l.94 2.06.94-2.06 2.06-.94-2.06-.94-.94-2.06-.94 2.06-2.06.94zm-11 1L8.5 8.5l.94-2.06 2.06-.94-2.06-.94L8.5 2.5l-.94 2.06-2.06.94zm10 10l.94 2.06.94-2.06 2.06-.94-2.06-.94-.94-2.06-.94 2.06-2.06.94z\"/><path d=\"M17.41 7.96l-1.37-1.37c-.4-.4-.92-.59-1.43-.59-.52 0-1.04.2-1.43.59L10.3 9.45l-7.72 7.72c-.78.78-.78 2.05 0 2.83L4 21.41c.39.39.9.59 1.41.59.51 0 1.02-.2 1.41-.59l7.78-7.78 2.81-2.81c.8-.78.8-2.07 0-2.86zM5.41 20L4 18.59l7.72-7.72 1.47 1.35L5.41 20z\"/>\n",
              "  </svg>\n",
              "      </button>\n",
              "      \n",
              "  <style>\n",
              "    .colab-df-container {\n",
              "      display:flex;\n",
              "      flex-wrap:wrap;\n",
              "      gap: 12px;\n",
              "    }\n",
              "\n",
              "    .colab-df-convert {\n",
              "      background-color: #E8F0FE;\n",
              "      border: none;\n",
              "      border-radius: 50%;\n",
              "      cursor: pointer;\n",
              "      display: none;\n",
              "      fill: #1967D2;\n",
              "      height: 32px;\n",
              "      padding: 0 0 0 0;\n",
              "      width: 32px;\n",
              "    }\n",
              "\n",
              "    .colab-df-convert:hover {\n",
              "      background-color: #E2EBFA;\n",
              "      box-shadow: 0px 1px 2px rgba(60, 64, 67, 0.3), 0px 1px 3px 1px rgba(60, 64, 67, 0.15);\n",
              "      fill: #174EA6;\n",
              "    }\n",
              "\n",
              "    [theme=dark] .colab-df-convert {\n",
              "      background-color: #3B4455;\n",
              "      fill: #D2E3FC;\n",
              "    }\n",
              "\n",
              "    [theme=dark] .colab-df-convert:hover {\n",
              "      background-color: #434B5C;\n",
              "      box-shadow: 0px 1px 3px 1px rgba(0, 0, 0, 0.15);\n",
              "      filter: drop-shadow(0px 1px 2px rgba(0, 0, 0, 0.3));\n",
              "      fill: #FFFFFF;\n",
              "    }\n",
              "  </style>\n",
              "\n",
              "      <script>\n",
              "        const buttonEl =\n",
              "          document.querySelector('#df-3e47f2d6-04c3-431e-9645-0cdbf8fa0e15 button.colab-df-convert');\n",
              "        buttonEl.style.display =\n",
              "          google.colab.kernel.accessAllowed ? 'block' : 'none';\n",
              "\n",
              "        async function convertToInteractive(key) {\n",
              "          const element = document.querySelector('#df-3e47f2d6-04c3-431e-9645-0cdbf8fa0e15');\n",
              "          const dataTable =\n",
              "            await google.colab.kernel.invokeFunction('convertToInteractive',\n",
              "                                                     [key], {});\n",
              "          if (!dataTable) return;\n",
              "\n",
              "          const docLinkHtml = 'Like what you see? Visit the ' +\n",
              "            '<a target=\"_blank\" href=https://colab.research.google.com/notebooks/data_table.ipynb>data table notebook</a>'\n",
              "            + ' to learn more about interactive tables.';\n",
              "          element.innerHTML = '';\n",
              "          dataTable['output_type'] = 'display_data';\n",
              "          await google.colab.output.renderOutput(dataTable, element);\n",
              "          const docLink = document.createElement('div');\n",
              "          docLink.innerHTML = docLinkHtml;\n",
              "          element.appendChild(docLink);\n",
              "        }\n",
              "      </script>\n",
              "    </div>\n",
              "  </div>\n",
              "  "
            ]
          },
          "metadata": {},
          "execution_count": 18
        }
      ]
    },
    {
      "cell_type": "code",
      "source": [
        "costA = data[data[\"Promo_A\"] == \"A\"][\"CostPerDay_A\"].str[2:].astype(float)"
      ],
      "metadata": {
        "id": "kPbngVwUskWI"
      },
      "execution_count": null,
      "outputs": []
    },
    {
      "cell_type": "code",
      "source": [
        "costB = data[data[\"Promo_A\"] == \"B\"][\"CostPerDay_A\"].str[2:].astype(float)"
      ],
      "metadata": {
        "id": "t-korPF5tzWV"
      },
      "execution_count": null,
      "outputs": []
    },
    {
      "cell_type": "code",
      "source": [
        "\n",
        "\n",
        "def plot_pval(distribution, t_val, xlims=(-5, 5), ylims=(0, 0.5)):\n",
        "    xxx = np.linspace(*xlims, 1000)\n",
        "    f, ax = plt.subplots(figsize=(4,3))\n",
        "    ax.plot(xxx, distribution.pdf(xxx))\n",
        "    ax.set_ylim(ylims)\n",
        "    ax.vlines(t_val, 0, stat_distrib.pdf(t_val), color='orange')\n",
        "    ax.plot(t_val, stat_distrib.pdf(t_val), 'o', color='orange')\n",
        "    xp = xxx <= t_val\n",
        "    ax.fill_between(xxx[xp], xxx[xp] * 0, stat_distrib.pdf(xxx[xp]), color='r')\n",
        "    xp = xxx >= -t_val\n",
        "    ax.fill_between(xxx[xp], xxx[xp] * 0, stat_distrib.pdf(xxx[xp]), color='r')\n",
        "    ax.set_ylabel(\"prob denisty\")\n",
        "    f.tight_layout()\n",
        "    return f, ax\n",
        "\n"
      ],
      "metadata": {
        "id": "TtEUW91csY48"
      },
      "execution_count": null,
      "outputs": []
    },
    {
      "cell_type": "code",
      "source": [
        "np.sqrt(np.var(costA, ddof=1))"
      ],
      "metadata": {
        "colab": {
          "base_uri": "https://localhost:8080/"
        },
        "id": "9BZgyKTQm-pK",
        "outputId": "4884343d-a4f7-4ffa-8085-f3b6a8c25172"
      },
      "execution_count": null,
      "outputs": [
        {
          "output_type": "execute_result",
          "data": {
            "text/plain": [
              "0.26785047068070394"
            ]
          },
          "metadata": {},
          "execution_count": 23
        }
      ]
    },
    {
      "cell_type": "code",
      "source": [
        "\n",
        "\n",
        "# Sample variances (w. Bessel correction)\n",
        "s_x = np.sqrt(np.var(costA, ddof=1))\n",
        "s_y = np.sqrt(np.var(costB, ddof=1))\n",
        "n_x = len(costA)\n",
        "n_y = len(costB)\n",
        "x = costA\n",
        "y = costB\n",
        "# Pooled variance\n",
        "s_p = np.sqrt(((n_x-1) * s_x**2 +\n",
        "               (n_y-1) * s_y**2)\n",
        "              / (n_x + n_y - 2))\n",
        "\n",
        "# Test statistic distribution under null hypothesis H0\n",
        "dofs = n_x + n_y - 2\n",
        "stat_distrib = t(df=dofs, loc=0, scale=1)\n",
        "\n",
        "z_val = (x.mean() - y.mean()) / np.sqrt(s_x**2/n_x + s_y**2/n_y)\n",
        "# t value\n",
        "t_val = (costA.mean() - costB.mean()) / (s_p * np.sqrt(1/n_x + 1/n_y))\n",
        "\n",
        "# p-value\n",
        "p_val = stat_distrib.cdf(t_val) * 2\n",
        "\n",
        "print(\"- Student's t-test:\")\n",
        "print(f\"   - nu: {dofs:.3f}\")\n",
        "print(f\"   - t value: {t_val:.3f}\")\n",
        "print(f\"   - p-value: {p_val*100:.1f}%\")\n",
        "plot_pval(stat_distrib, z_val);\n",
        "\n"
      ],
      "metadata": {
        "id": "HKJtFsLltl9Q",
        "colab": {
          "base_uri": "https://localhost:8080/",
          "height": 299
        },
        "outputId": "40e5612d-a57a-4145-d9fd-1f1b7c21929c"
      },
      "execution_count": null,
      "outputs": [
        {
          "output_type": "stream",
          "name": "stdout",
          "text": [
            "- Student's t-test:\n",
            "   - nu: 52.000\n",
            "   - t value: 0.945\n",
            "   - p-value: 165.1%\n"
          ]
        },
        {
          "output_type": "display_data",
          "data": {
            "text/plain": [
              "<Figure size 288x216 with 1 Axes>"
            ],
            "image/png": "[encoded data removed]"
          },
          "metadata": {
            "needs_background": "light"
          }
        }
      ]
    },
    {
      "cell_type": "code",
      "source": [
        "# Sample variances (w. Bessel correction)\n",
        "s_x = np.sqrt(np.var(x, ddof=1))\n",
        "s_y = np.sqrt(np.var(y, ddof=1))\n",
        "\n",
        "# Denominator (not a pooled variance!)\n",
        "s_d = np.sqrt(s_x**2/n_x + s_y**2/n_y)\n",
        "    \n",
        "    \n",
        "# Test statistic distribution under null hypothesis H0\n",
        "dofs = s_d**4 / ((s_x**2/n_x)**2/(n_x-1) +\n",
        "                 (s_y**2/n_y)**2/(n_y-1))\n",
        "stat_distrib = t(df=dofs, loc=0, scale=1)\n",
        "\n",
        "# t value\n",
        "t_val = (x.mean() - y.mean()) / s_d\n",
        "\n",
        "# p-value\n",
        "p_val = stat_distrib.cdf(t_val) * 2\n",
        "\n",
        "print(\"- Welch' t-test:\")\n",
        "print(f\"   - nu: {dofs:.3f}\")\n",
        "print(f\"   - t value: {t_val:.3f}\")\n",
        "print(f\"   - p-value: {p_val*100:.1f}%\")\n",
        "plot_pval(stat_distrib, z_val);\n"
      ],
      "metadata": {
        "id": "UClnt-zTsSlo",
        "colab": {
          "base_uri": "https://localhost:8080/",
          "height": 299
        },
        "outputId": "a6593729-8d6f-4281-85ce-494316820b9a"
      },
      "execution_count": null,
      "outputs": [
        {
          "output_type": "stream",
          "name": "stdout",
          "text": [
            "- Welch' t-test:\n",
            "   - nu: 50.958\n",
            "   - t value: 0.945\n",
            "   - p-value: 165.1%\n"
          ]
        },
        {
          "output_type": "display_data",
          "data": {
            "text/plain": [
              "<Figure size 288x216 with 1 Axes>"
            ],
            "image/png": "[encoded data removed]"
          },
          "metadata": {
            "needs_background": "light"
          }
        }
      ]
    },
    {
      "cell_type": "code",
      "execution_count": null,
      "metadata": {
        "id": "ne9NqaE7pC32",
        "colab": {
          "base_uri": "https://localhost:8080/"
        },
        "outputId": "d7a08363-ad98-4cd4-9918-06834a8fc2ba"
      },
      "outputs": [
        {
          "output_type": "execute_result",
          "data": {
            "text/plain": [
              "0     0.88\n",
              "1     0.92\n",
              "2     0.90\n",
              "3     0.57\n",
              "4     0.78\n",
              "5     0.25\n",
              "6     0.07\n",
              "7     0.33\n",
              "8     0.32\n",
              "9     0.50\n",
              "10    0.19\n",
              "11    0.74\n",
              "12    0.90\n",
              "13    0.40\n",
              "14    0.24\n",
              "15    0.58\n",
              "16    0.86\n",
              "17    0.50\n",
              "18    0.81\n",
              "19    0.28\n",
              "20    0.72\n",
              "21    0.65\n",
              "22    0.66\n",
              "23    0.30\n",
              "24    0.25\n",
              "25    0.37\n",
              "26    0.92\n",
              "Name: CostPerDay_A, dtype: float64"
            ]
          },
          "metadata": {},
          "execution_count": 36
        }
      ],
      "source": [
        "costA"
      ]
    },
    {
      "cell_type": "code",
      "source": [
        "costB"
      ],
      "metadata": {
        "id": "BeSYWsNopZ5N",
        "colab": {
          "base_uri": "https://localhost:8080/"
        },
        "outputId": "3a6a90fc-4f8f-4ce7-e2c1-cb9c56d2ddca"
      },
      "execution_count": null,
      "outputs": [
        {
          "output_type": "execute_result",
          "data": {
            "text/plain": [
              "27    0.79\n",
              "28    0.98\n",
              "29    0.71\n",
              "30    0.50\n",
              "31    0.41\n",
              "32    0.33\n",
              "33    0.33\n",
              "34    0.72\n",
              "35    0.66\n",
              "36    0.09\n",
              "37    0.25\n",
              "38    0.19\n",
              "39    0.01\n",
              "40    0.91\n",
              "41    0.75\n",
              "42    0.48\n",
              "43    0.08\n",
              "44    0.13\n",
              "45    0.87\n",
              "46    0.98\n",
              "47    0.26\n",
              "48    0.03\n",
              "49    0.36\n",
              "50    0.84\n",
              "51    0.50\n",
              "52    0.55\n",
              "53    0.17\n",
              "Name: CostPerDay_A, dtype: float64"
            ]
          },
          "metadata": {},
          "execution_count": 37
        }
      ]
    },
    {
      "cell_type": "code",
      "source": [
        "mwu = mannwhitneyu(x, y, use_continuity=False, alternative=\"two-sided\")\n",
        "\n",
        "print(\"- Mann-Whitney U test:\")\n",
        "print(f\"   - U value: {mwu.statistic:.3f}\")\n",
        "print(f\"   - p-value: {mwu.pvalue*100:.1f}%\")\n"
      ],
      "metadata": {
        "colab": {
          "base_uri": "https://localhost:8080/"
        },
        "id": "KNdggDXfra90",
        "outputId": "e46c62d6-5b20-4275-f772-e1193b1307f6"
      },
      "execution_count": null,
      "outputs": [
        {
          "output_type": "stream",
          "name": "stdout",
          "text": [
            "- Mann-Whitney U test:\n",
            "   - U value: 417.500\n",
            "   - p-value: 35.9%\n"
          ]
        }
      ]
    },
    {
      "cell_type": "code",
      "source": [
        "mwu = mannwhitneyu(y, x, use_continuity=False, alternative=\"two-sided\")\n",
        "\n",
        "print(\"- Mann-Whitney U test:\")\n",
        "print(f\"   - U value: {mwu.statistic:.3f}\")\n",
        "print(f\"   - p-value: {mwu.pvalue*100:.1f}%\")\n"
      ],
      "metadata": {
        "id": "bOZfZEAJt_u7",
        "colab": {
          "base_uri": "https://localhost:8080/"
        },
        "outputId": "2e37a16b-8461-4d54-ebf1-12dd4d0aa590"
      },
      "execution_count": null,
      "outputs": [
        {
          "output_type": "stream",
          "name": "stdout",
          "text": [
            "- Mann-Whitney U test:\n",
            "   - U value: 311.500\n",
            "   - p-value: 35.9%\n"
          ]
        }
      ]
    },
    {
      "cell_type": "code",
      "source": [
        "p = costA\n",
        "a = np.arange(len(p))\n",
        "p = p / p.sum()\n",
        "\n",
        "f, ax = plt.subplots(figsize=(6, 3))\n",
        "ax.bar(a, p)\n",
        "ax.set_ylabel(\"prob density\")\n",
        "ax.set_xlabel(\"x\");"
      ],
      "metadata": {
        "colab": {
          "base_uri": "https://localhost:8080/",
          "height": 225
        },
        "id": "XE2P98ouqT1A",
        "outputId": "66957bb1-624b-41ed-a685-a4c35cd58fc5"
      },
      "execution_count": null,
      "outputs": [
        {
          "output_type": "display_data",
          "data": {
            "text/plain": [
              "<Figure size 432x216 with 1 Axes>"
            ],
            "image/png": "[encoded data removed]"
          },
          "metadata": {
            "needs_background": "light"
          }
        }
      ]
    },
    {
      "cell_type": "code",
      "source": [
        "p = costB\n",
        "a = np.arange(len(p))\n",
        "p = p / p.sum()\n",
        "\n",
        "f, ax = plt.subplots(figsize=(6, 3))\n",
        "ax.bar(a, p)\n",
        "ax.set_ylabel(\"prob density\")\n",
        "ax.set_xlabel(\"x\");"
      ],
      "metadata": {
        "colab": {
          "base_uri": "https://localhost:8080/",
          "height": 225
        },
        "id": "P3NAEsjHqEjJ",
        "outputId": "c3b0a7cc-91a4-4d5d-d68f-dcbae01badf1"
      },
      "execution_count": null,
      "outputs": [
        {
          "output_type": "display_data",
          "data": {
            "text/plain": [
              "<Figure size 432x216 with 1 Axes>"
            ],
            "image/png": "[encoded data removed]"
          },
          "metadata": {
            "needs_background": "light"
          }
        }
      ]
    },
    {
      "cell_type": "code",
      "source": [
        "loc = (p*np.arange(len(p))).sum()\n",
        "\n",
        "nn = [1, 10, 20, 40]\n",
        "f, axx = plt.subplots(2, 2, figsize=(3.5*2, 2.3*2))    \n",
        "\n",
        "for i, n in enumerate(nn):\n",
        "    r, c = divmod(i, 2)        \n",
        "    x = p\n",
        "    ax = axx[r, c]\n",
        "    for _ in range(n):\n",
        "        x = np.convolve(x, p)\n",
        "\n",
        "    ax.bar(np.arange(len(x))/n, x*n, width=1/n)\n",
        "    ax.set_ylim([0, 0.51])\n",
        "    ax.vlines(loc, 0, 0.51, 'r')\n",
        "    ax.set_xlabel(\"test statistic\")\n",
        "    ax.set_ylabel(\"prob density\")\n",
        "    ax.set_title(f\"sample size = {n}\")\n",
        "\n",
        "f.tight_layout()"
      ],
      "metadata": {
        "colab": {
          "base_uri": "https://localhost:8080/",
          "height": 340
        },
        "id": "USzhyHQKqNAi",
        "outputId": "64edc159-c64f-43da-ce1b-89efa7415e58"
      },
      "execution_count": null,
      "outputs": [
        {
          "output_type": "display_data",
          "data": {
            "text/plain": [
              "<Figure size 504x331.2 with 4 Axes>"
            ],
            "image/png": "[encoded data removed]"
          },
          "metadata": {
            "needs_background": "light"
          }
        }
      ]
    },
    {
      "cell_type": "code",
      "source": [
        "costA = data[data[\"Promo_B\"] == \"A\"][\"CostPerDay_B\"].str[2:].astype(float)"
      ],
      "metadata": {
        "id": "w2GyGvgkqN0m"
      },
      "execution_count": null,
      "outputs": []
    },
    {
      "cell_type": "code",
      "source": [
        "costB = data[data[\"Promo_B\"] == \"B\"][\"CostPerDay_B\"].str[2:].astype(float)"
      ],
      "metadata": {
        "id": "4ujlyKHcwIgJ"
      },
      "execution_count": null,
      "outputs": []
    },
    {
      "cell_type": "code",
      "source": [
        "\n",
        "\n",
        "# Sample variances (w. Bessel correction)\n",
        "s_x = np.sqrt(np.var(costA, ddof=1))\n",
        "s_y = np.sqrt(np.var(costB, ddof=1))\n",
        "n_x = len(costA)\n",
        "n_y = len(costB)\n",
        "x = costA\n",
        "y = costB\n",
        "# Pooled variance\n",
        "s_p = np.sqrt(((n_x-1) * s_x**2 +\n",
        "               (n_y-1) * s_y**2)\n",
        "              / (n_x + n_y - 2))\n",
        "\n",
        "# Test statistic distribution under null hypothesis H0\n",
        "dofs = n_x + n_y - 2\n",
        "stat_distrib = t(df=dofs, loc=0, scale=1)\n",
        "\n",
        "z_val = (x.mean() - y.mean()) / np.sqrt(s_x**2/n_x + s_y**2/n_y)\n",
        "# t value\n",
        "t_val = (costA.mean() - costB.mean()) / (s_p * np.sqrt(1/n_x + 1/n_y))\n",
        "\n",
        "# p-value\n",
        "p_val = stat_distrib.cdf(t_val) * 2\n",
        "\n",
        "print(\"- Student's t-test:\")\n",
        "print(f\"   - nu: {dofs:.3f}\")\n",
        "print(f\"   - t value: {t_val:.3f}\")\n",
        "print(f\"   - p-value: {p_val*100:.1f}%\")\n",
        "plot_pval(stat_distrib, z_val);\n",
        "\n"
      ],
      "metadata": {
        "colab": {
          "base_uri": "https://localhost:8080/",
          "height": 299
        },
        "id": "jQuDhDR4wH-v",
        "outputId": "c4312e89-4dd6-4eb1-aea9-ad75c5b4b175"
      },
      "execution_count": null,
      "outputs": [
        {
          "output_type": "stream",
          "name": "stdout",
          "text": [
            "- Student's t-test:\n",
            "   - nu: 52.000\n",
            "   - t value: 0.000\n",
            "   - p-value: 100.0%\n"
          ]
        },
        {
          "output_type": "display_data",
          "data": {
            "text/plain": [
              "<Figure size 288x216 with 1 Axes>"
            ],
            "image/png": "[encoded data removed]"
          },
          "metadata": {
            "needs_background": "light"
          }
        }
      ]
    },
    {
      "cell_type": "code",
      "source": [
        "# Sample variances (w. Bessel correction)\n",
        "s_x = np.sqrt(np.var(x, ddof=1))\n",
        "s_y = np.sqrt(np.var(y, ddof=1))\n",
        "\n",
        "# Denominator (not a pooled variance!)\n",
        "s_d = np.sqrt(s_x**2/n_x + s_y**2/n_y)\n",
        "    \n",
        "    \n",
        "# Test statistic distribution under null hypothesis H0\n",
        "dofs = s_d**4 / ((s_x**2/n_x)**2/(n_x-1) +\n",
        "                 (s_y**2/n_y)**2/(n_y-1))\n",
        "stat_distrib = t(df=dofs, loc=0, scale=1)\n",
        "\n",
        "# t value\n",
        "t_val = (x.mean() - y.mean()) / s_d\n",
        "\n",
        "# p-value\n",
        "p_val = stat_distrib.cdf(t_val) * 2\n",
        "\n",
        "print(\"- Welch' t-test:\")\n",
        "print(f\"   - nu: {dofs:.3f}\")\n",
        "print(f\"   - t value: {t_val:.3f}\")\n",
        "print(f\"   - p-value: {p_val*100:.1f}%\")\n",
        "plot_pval(stat_distrib, z_val);\n"
      ],
      "metadata": {
        "colab": {
          "base_uri": "https://localhost:8080/",
          "height": 299
        },
        "id": "JIzur_V7wRIF",
        "outputId": "0aa2937a-f34c-4dc3-dc33-9d845c1d2e38"
      },
      "execution_count": null,
      "outputs": [
        {
          "output_type": "stream",
          "name": "stdout",
          "text": [
            "- Welch' t-test:\n",
            "   - nu: 52.000\n",
            "   - t value: 0.000\n",
            "   - p-value: 100.0%\n"
          ]
        },
        {
          "output_type": "display_data",
          "data": {
            "text/plain": [
              "<Figure size 288x216 with 1 Axes>"
            ],
            "image/png": "[encoded data removed]"
          },
          "metadata": {
            "needs_background": "light"
          }
        }
      ]
    },
    {
      "cell_type": "code",
      "source": [
        "mwu = mannwhitneyu(x, y, use_continuity=False, alternative=\"two-sided\")\n",
        "\n",
        "print(\"- Mann-Whitney U test:\")\n",
        "print(f\"   - U value: {mwu.statistic:.3f}\")\n",
        "print(f\"   - p-value: {mwu.pvalue*100:.1f}%\")\n"
      ],
      "metadata": {
        "id": "fIeusz8wwYCl",
        "outputId": "aa6ef869-eab9-4cec-dbfa-04f9d47d8777",
        "colab": {
          "base_uri": "https://localhost:8080/"
        }
      },
      "execution_count": null,
      "outputs": [
        {
          "output_type": "stream",
          "name": "stdout",
          "text": [
            "- Mann-Whitney U test:\n",
            "   - U value: 364.500\n",
            "   - p-value: 100.0%\n"
          ]
        }
      ]
    },
    {
      "cell_type": "code",
      "source": [
        "mwu = mannwhitneyu(y, x, use_continuity=False, alternative=\"two-sided\")\n",
        "\n",
        "print(\"- Mann-Whitney U test:\")\n",
        "print(f\"   - U value: {mwu.statistic:.3f}\")\n",
        "print(f\"   - p-value: {mwu.pvalue*100:.1f}%\")\n"
      ],
      "metadata": {
        "id": "MUHtMYFpwdYt",
        "outputId": "0bd2aca1-43c3-4ec9-d70c-cd5ad20d4328",
        "colab": {
          "base_uri": "https://localhost:8080/"
        }
      },
      "execution_count": null,
      "outputs": [
        {
          "output_type": "stream",
          "name": "stdout",
          "text": [
            "- Mann-Whitney U test:\n",
            "   - U value: 364.500\n",
            "   - p-value: 100.0%\n"
          ]
        }
      ]
    }
  ]
}